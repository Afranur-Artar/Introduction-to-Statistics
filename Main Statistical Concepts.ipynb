{
 "cells": [
  {
   "cell_type": "markdown",
   "metadata": {},
   "source": [
    "# 1. Variables and types of variables\n",
    "    1.1. Quantitative and qualitative\n",
    "    1.2. Continuous\n",
    "# 2. Measures of Central Tendency\n",
    "    2.1. Mean\n",
    "    2.2. Median\n",
    "    2.3. Mode\n",
    "# 3. Measure of Dispersion\n",
    "    3.1. Variance\n",
    "    3.2. Standard deviation\n",
    "    3.3. Standart error"
   ]
  },
  {
   "cell_type": "code",
   "execution_count": 87,
   "metadata": {},
   "outputs": [],
   "source": [
    "import pandas as pd\n",
    "import numpy as np\n",
    "import statistics"
   ]
  },
  {
   "cell_type": "markdown",
   "metadata": {},
   "source": [
    "# Soru 1:\n",
    "Analyze the central tendency and distribution measurements with the mathematical formula given above and the built-in codes available in python through 3 different data that you will generate using the numpy library !!!"
   ]
  },
  {
   "cell_type": "code",
   "execution_count": 88,
   "metadata": {},
   "outputs": [
    {
     "name": "stdout",
     "output_type": "stream",
     "text": [
      "Mean:  40.0100248310866 \n",
      " 49.79643098784301 \n",
      " 59.758519594779834 \n",
      "\n",
      "Mean:  40.010024831086604 \n",
      " 49.79643098784301 \n",
      " 59.75851959477982 \n",
      "\n",
      "Median 39.90680135422205 \n",
      " 47.5156114124178 \n",
      " 59.94093967414496 \n",
      "\n",
      "Variance:  32.584170782096734 \n",
      " 207.08872820475318 \n",
      " 3.6523363316897512 \n",
      "\n",
      "Standart deviation:  5.708254617840442 \n",
      " 14.390577757850904 \n",
      " 1.9111086655891003 \n",
      "\n",
      "Standart error:  0.5679925635939149 \n",
      " 1.302861693289905 \n",
      " 0.16571413767762463\n"
     ]
    }
   ],
   "source": [
    "data1=np.random.normal(40,5,101)\n",
    "data2=np.random.normal(50,15,122)\n",
    "data3=np.random.normal(60,2,133)\n",
    "\n",
    "# CENTRAL TENDENCY\n",
    "# mean (mathematical formula):\n",
    "mean1=sum(data1)/len(data1)\n",
    "mean2=sum(data2)/len(data2)\n",
    "mean3=sum(data3)/len(data3)\n",
    "print(\"Mean: \",mean1,\"\\n\",mean2,\"\\n\",mean3,\"\\n\")\n",
    "\n",
    "# mean (built-in codes):\n",
    "mean1_bic=np.mean(data1)\n",
    "mean2_bic=np.mean(data2)\n",
    "mean3_bic=np.mean(data3)\n",
    "print(\"Mean: \",mean1_bic,\"\\n\",mean2_bic,\"\\n\",mean3_bic,\"\\n\")\n",
    "\n",
    "# meadian (built-in function):\n",
    "median1_bic=np.median(data1)\n",
    "median2_bic=np.median(data2)\n",
    "median3_bic=np.median(data3)\n",
    "print(\"Median\", median1_bic,\"\\n\",median2_bic,\"\\n\",median3_bic,\"\\n\")\n",
    "\n",
    "# mode (built-in function):\n",
    "#    mode1_bic=statistics.mode(data1)\n",
    "#    mode2_bic=statistics.mode(data2)\n",
    "#    mode3_bic=statistics.mode(data3)\n",
    "#    print(\"Median\",mode1_bic,\"\\n\",mode2_bic,\"\\n\",mode3_bic,\"\\n\")\n",
    "\n",
    "\n",
    "# DISTRIBUTION MEASUREMENT\n",
    "# variance:\n",
    "var1=np.var(data1,ddof=1)\n",
    "var2=np.var(data2,ddof=1)\n",
    "var3=np.var(data3,ddof=1)\n",
    "print(\"Variance: \",var1,\"\\n\",var2,\"\\n\",var3,\"\\n\")\n",
    "\n",
    "# standart deviation:\n",
    "std1=np.std(data1,ddof=1)\n",
    "std2=np.std(data2,ddof=1)\n",
    "std3=np.std(data3,ddof=1)\n",
    "print(\"Standart deviation: \",std1,\"\\n\",std2,\"\\n\",std3,\"\\n\")\n",
    "\n",
    "# standart error:\n",
    "stder1=std1/np.sqrt(len(data1))\n",
    "stder2=std2/np.sqrt(len(data2))\n",
    "stder3=std3/np.sqrt(len(data3))\n",
    "print(\"Standart error: \",stder1,\"\\n\",stder2,\"\\n\",stder3)"
   ]
  }
 ],
 "metadata": {
  "kernelspec": {
   "display_name": "Python 3",
   "language": "python",
   "name": "python3"
  },
  "language_info": {
   "codemirror_mode": {
    "name": "ipython",
    "version": 3
   },
   "file_extension": ".py",
   "mimetype": "text/x-python",
   "name": "python",
   "nbconvert_exporter": "python",
   "pygments_lexer": "ipython3",
   "version": "3.7.3"
  }
 },
 "nbformat": 4,
 "nbformat_minor": 2
}
