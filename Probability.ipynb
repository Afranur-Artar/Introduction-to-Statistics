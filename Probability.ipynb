{
 "cells": [
  {
   "cell_type": "markdown",
   "metadata": {},
   "source": [
    "# Soru 1:\n",
    "It has been found that some of the computers sold by Company A are defective. Assuming that there are 3 computer-producing companies (A, B, and C), the amount of computer production of these companies and the probabilities of defective production are as follows:\n",
    "\n",
    "Total production percentage :\n",
    "P(A)=0.40 \n",
    "P(B)=0.40 \n",
    "P(C)=0.20 \n",
    "Possibility of defective production :\n",
    "P(D|A)=0.015 \n",
    "P(D|B)=0.020 \n",
    "P(D|C)=0.010 \n",
    "What is the probability that a randomly selected defective computer will be produced by company B?"
   ]
  },
  {
   "cell_type": "raw",
   "metadata": {},
   "source": [
    "Total production percentage:\n",
    "P(A)=0.40\n",
    "P(B)=0.40\n",
    "P(C)=0.20\n",
    "\n",
    "Possibility of defective production:\n",
    "P(D|A)=0.015\n",
    "P(D|B)=0.020\n",
    "P(D|C)=0.010\n",
    "\n",
    "P(B|D)= P(D|B)*P(B)/P(D)"
   ]
  },
  {
   "cell_type": "code",
   "execution_count": 3,
   "metadata": {},
   "outputs": [
    {
     "data": {
      "text/plain": [
       "0.5"
      ]
     },
     "execution_count": 3,
     "metadata": {},
     "output_type": "execute_result"
    }
   ],
   "source": [
    "(0.020)*0.4/(0.4*0.015+0.4*0.020+0.2*0.010)"
   ]
  }
 ],
 "metadata": {
  "kernelspec": {
   "display_name": "Python 3",
   "language": "python",
   "name": "python3"
  },
  "language_info": {
   "codemirror_mode": {
    "name": "ipython",
    "version": 3
   },
   "file_extension": ".py",
   "mimetype": "text/x-python",
   "name": "python",
   "nbconvert_exporter": "python",
   "pygments_lexer": "ipython3",
   "version": "3.7.3"
  }
 },
 "nbformat": 4,
 "nbformat_minor": 2
}
