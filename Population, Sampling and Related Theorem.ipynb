{
 "cells": [
  {
   "cell_type": "markdown",
   "metadata": {},
   "source": [
    "Population and Sampling\n",
    "\n",
    "Central Limit Theorem\n",
    "\n",
    "Law of Large Numbers\n",
    "\n",
    "* Populasyondan örneklem almak için numpy kütüphanesinin random modülünün içindeki choice() fonksiyonu kullanılır.\n",
    "* t-testi hesaplaması için, scipy kütüphanesinin stats modülündeki ttest_ind() fonksiyonu kullanılır.\n",
    "* Büyük sayılar yasası (law of large numbers), örneklem sayısı arttıkça örneklemin ortalaması populasyonun ortalamasına yaklaşır.Yani örneklem sayısının artması populasyon hakkında daha doğru bilgi verir."
   ]
  },
  {
   "cell_type": "code",
   "execution_count": 1,
   "metadata": {},
   "outputs": [],
   "source": [
    "import numpy as np\n",
    "import pandas as pd\n",
    "import warnings\n",
    "import matplotlib.pyplot as plt"
   ]
  },
  {
   "cell_type": "markdown",
   "metadata": {},
   "source": [
    "# Soru 1:\n",
    "In this question, you test whether the central limit theorem works. You generate 1000 variables with two normal distributions. You can determine the mean and standard deviation of these variables yourself. All you have to do is generate the first variable 50 times and averaged it each time. Generate the second variable 1000 times and averages this variable each time. Then plot the histogram of the averages of the two variables. Which of the variables has a mean distribution closer to the normal distribution? Do you think the Central Limit Theorem seems to have worked?"
   ]
  },
  {
   "cell_type": "code",
   "execution_count": 48,
   "metadata": {},
   "outputs": [
    {
     "data": {
      "image/png": "[encoded data removed]",
      "text/plain": [
       "<Figure size 1100x500 with 2 Axes>"
      ]
     },
     "metadata": {
      "needs_background": "light"
     },
     "output_type": "display_data"
    }
   ],
   "source": [
    "data1_list=[]\n",
    "data1_mean=[]\n",
    "data2_list=[]\n",
    "data2_mean=[]\n",
    "\n",
    "for i in range(1,51):\n",
    "    count1=np.random.normal(80,4,1000)[0]\n",
    "    data1_list.append(count1)\n",
    "    data1_mean.append(np.mean(data1_list))\n",
    "#print(\"data1 mean:\",data1_mean,\"\\n\")\n",
    "  \n",
    "    \n",
    "for j in range(1,1001):\n",
    "    count2=np.random.normal(60,40,1000)[0]\n",
    "    data2_list.append(count2)\n",
    "    data2_mean.append(np.mean(data2_list))\n",
    "#print(\"data2 mean:\",data2_mean,\"\\n\")\n",
    "\n",
    "\n",
    "plt.figure(figsize=(11,5), dpi=100)\n",
    "plt.subplot(1,2,1)\n",
    "plt.hist(data1_list, color=\"g\") \n",
    "plt.subplot(1,2,2)\n",
    "plt.hist(data2_list, color=\"y\")\n",
    "\n",
    "plt.show()\n",
    "\n",
    "\n",
    "\n",
    "# Histogram grafiğini yorumlarsak; farklı ortalama ve standart sapmalara sahip 2 normal dağılımlı değişkeni farklı sayılarda\n",
    "# tekrar ettiğimizde; çok fazla kere tekrar ettirilen değişkenin normal dağılıma daha yakın olduğu görülmüştür. \n",
    "# 1000 kez tekrar ettirilen normal dağılımlı değişkenin standart sapması (40) daha büyük olmasına rağmen, tekrar sayısının\n",
    "# artması normal dağılıma daha çok yaklaşmasına sebep olmuştur."
   ]
  }
 ],
 "metadata": {
  "kernelspec": {
   "display_name": "Python 3",
   "language": "python",
   "name": "python3"
  },
  "language_info": {
   "codemirror_mode": {
    "name": "ipython",
    "version": 3
   },
   "file_extension": ".py",
   "mimetype": "text/x-python",
   "name": "python",
   "nbconvert_exporter": "python",
   "pygments_lexer": "ipython3",
   "version": "3.7.3"
  }
 },
 "nbformat": 4,
 "nbformat_minor": 2
}
